{
  "nbformat": 4,
  "nbformat_minor": 0,
  "metadata": {
    "colab": {
      "provenance": []
    },
    "kernelspec": {
      "name": "python3",
      "display_name": "Python 3"
    },
    "language_info": {
      "name": "python"
    },
    "accelerator": "GPU",
    "gpuClass": "standard"
  },
  "cells": [
    {
      "cell_type": "code",
      "execution_count": null,
      "metadata": {
        "id": "NMCPckpg0Mgv"
      },
      "outputs": [],
      "source": [
        "import torch"
      ]
    },
    {
      "cell_type": "code",
      "source": [
        "D_in, H,H2, D_out = 784, 400,200, 47\n",
        "\n",
        "model = torch.nn.Sequential(\n",
        "    torch.nn.Linear(D_in, H),\n",
        "    torch.nn.ReLU(),\n",
        "    torch.nn.Linear(H, H2),\n",
        "    torch.nn.ReLU(),\n",
        "    torch.nn.Linear(H2, D_out),\n",
        ")"
      ],
      "metadata": {
        "id": "f39gouhH2njf"
      },
      "execution_count": null,
      "outputs": []
    },
    {
      "cell_type": "code",
      "source": [
        "outputs = model(torch.randn(64, 784))\n",
        "outputs.shape"
      ],
      "metadata": {
        "colab": {
          "base_uri": "https://localhost:8080/"
        },
        "id": "kSc2lAec3Jlh",
        "outputId": "95b91758-6948-4169-f86d-378cbdfd8011"
      },
      "execution_count": null,
      "outputs": [
        {
          "output_type": "execute_result",
          "data": {
            "text/plain": [
              "torch.Size([64, 47])"
            ]
          },
          "metadata": {},
          "execution_count": 21
        }
      ]
    },
    {
      "cell_type": "code",
      "source": [
        "model.to(\"cuda\")"
      ],
      "metadata": {
        "colab": {
          "base_uri": "https://localhost:8080/"
        },
        "id": "QsCL_77V3Xqo",
        "outputId": "712de61e-c0ec-4327-d5c2-35526b499c7e"
      },
      "execution_count": null,
      "outputs": [
        {
          "output_type": "execute_result",
          "data": {
            "text/plain": [
              "Sequential(\n",
              "  (0): Linear(in_features=784, out_features=400, bias=True)\n",
              "  (1): ReLU()\n",
              "  (2): Linear(in_features=400, out_features=200, bias=True)\n",
              "  (3): ReLU()\n",
              "  (4): Linear(in_features=200, out_features=47, bias=True)\n",
              ")"
            ]
          },
          "metadata": {},
          "execution_count": 22
        }
      ]
    },
    {
      "cell_type": "code",
      "source": [
        "from sklearn.datasets import fetch_openml\n",
        "\n",
        "# descarga datos\n",
        "\n",
        "mnist = fetch_openml('EMNIST_Balanced', version=1)\n",
        "X, Y = mnist[\"data\"], mnist[\"target\"]\n",
        "\n",
        "X.shape, Y.shape"
      ],
      "metadata": {
        "colab": {
          "base_uri": "https://localhost:8080/"
        },
        "id": "iGMO-M0h3ih_",
        "outputId": "fc5b12a6-bfc0-4c0a-ec0c-ad98badd3c56"
      },
      "execution_count": null,
      "outputs": [
        {
          "output_type": "stream",
          "name": "stderr",
          "text": [
            "/usr/local/lib/python3.8/dist-packages/sklearn/datasets/_openml.py:932: FutureWarning: The default value of `parser` will change from `'liac-arff'` to `'auto'` in 1.4. You can set `parser='auto'` to silence this warning. Therefore, an `ImportError` will be raised from 1.4 if the dataset is dense and pandas is not installed. Note that the pandas parser may return different data types. See the Notes Section in fetch_openml's API doc for details.\n",
            "  warn(\n"
          ]
        },
        {
          "output_type": "execute_result",
          "data": {
            "text/plain": [
              "((131600, 784), (131600,))"
            ]
          },
          "metadata": {},
          "execution_count": 6
        }
      ]
    },
    {
      "cell_type": "code",
      "source": [
        "import numpy as np\n",
        "X=np.array(X)\n",
        "Y= np.array(Y)"
      ],
      "metadata": {
        "id": "SFPo-koo4chv"
      },
      "execution_count": null,
      "outputs": []
    },
    {
      "cell_type": "code",
      "source": [
        "\n",
        "# normalización y split\n",
        "\n",
        "X_train, X_test, y_train, y_test = X[:60000] / 255., X[60000:] / 255., Y[:60000].astype(int), Y[60000:].astype(int)"
      ],
      "metadata": {
        "id": "mvzl3sES3vNH"
      },
      "execution_count": null,
      "outputs": []
    },
    {
      "cell_type": "code",
      "source": [
        "# función de pérdida y derivada\n",
        "\n",
        "def softmax(x):\n",
        "    return torch.exp(x) / torch.exp(x).sum(axis=-1,keepdims=True)\n",
        "\n",
        "def cross_entropy(output, target):\n",
        "    logits = output[torch.arange(len(output)), target]\n",
        "    loss = - logits + torch.log(torch.sum(torch.exp(output), axis=-1))\n",
        "    loss = loss.mean()\n",
        "    return loss"
      ],
      "metadata": {
        "id": "D6_FnJRB35ru"
      },
      "execution_count": null,
      "outputs": []
    },
    {
      "cell_type": "code",
      "source": [
        "# convertimos datos a tensores y copiamos en gpu\n",
        "X_t = torch.from_numpy(X_train).float().cuda()\n",
        "Y_t = torch.from_numpy(y_train).long().cuda()\n",
        "\n",
        "# bucle entrenamiento\n",
        "epochs = 1000\n",
        "lr = 0.8\n",
        "log_each = 10\n",
        "l = []\n",
        "for e in range(1, epochs+1): \n",
        "    \n",
        "    # forward\n",
        "    y_pred = model(X_t)\n",
        "\n",
        "    # loss\n",
        "    loss = cross_entropy(y_pred, Y_t)\n",
        "    l.append(loss.item())\n",
        "    \n",
        "    # ponemos a cero los gradientes\n",
        "    model.zero_grad()\n",
        "\n",
        "    # Backprop (calculamos todos los gradientes automáticamente)\n",
        "    loss.backward()\n",
        "\n",
        "    # update de los pesos\n",
        "    with torch.no_grad():\n",
        "        for param in model.parameters():\n",
        "            param -= lr * param.grad\n",
        "    \n",
        "    if not e % log_each:\n",
        "        print(f\"Epoch {e}/{epochs} Loss {np.mean(l):.5f}\")"
      ],
      "metadata": {
        "colab": {
          "base_uri": "https://localhost:8080/"
        },
        "id": "vp49M6yn4MIh",
        "outputId": "33f5cc5f-37c9-4ef8-e62e-e4792bb621cc"
      },
      "execution_count": null,
      "outputs": [
        {
          "output_type": "stream",
          "name": "stdout",
          "text": [
            "Epoch 10/1000 Loss 3.80065\n",
            "Epoch 20/1000 Loss 3.58534\n",
            "Epoch 30/1000 Loss 3.61641\n",
            "Epoch 40/1000 Loss 3.52516\n",
            "Epoch 50/1000 Loss 3.39841\n",
            "Epoch 60/1000 Loss 3.25246\n",
            "Epoch 70/1000 Loss 3.07946\n",
            "Epoch 80/1000 Loss 2.92429\n",
            "Epoch 90/1000 Loss 2.78099\n",
            "Epoch 100/1000 Loss 2.64786\n",
            "Epoch 110/1000 Loss 2.53297\n",
            "Epoch 120/1000 Loss 2.42915\n",
            "Epoch 130/1000 Loss 2.33817\n",
            "Epoch 140/1000 Loss 2.25420\n",
            "Epoch 150/1000 Loss 2.17667\n",
            "Epoch 160/1000 Loss 2.10566\n",
            "Epoch 170/1000 Loss 2.03963\n",
            "Epoch 180/1000 Loss 1.97932\n",
            "Epoch 190/1000 Loss 1.92624\n",
            "Epoch 200/1000 Loss 1.87382\n",
            "Epoch 210/1000 Loss 1.82669\n",
            "Epoch 220/1000 Loss 1.78207\n",
            "Epoch 230/1000 Loss 1.74090\n",
            "Epoch 240/1000 Loss 1.70121\n",
            "Epoch 250/1000 Loss 1.66405\n",
            "Epoch 260/1000 Loss 1.62888\n",
            "Epoch 270/1000 Loss 1.59756\n",
            "Epoch 280/1000 Loss 1.56526\n",
            "Epoch 290/1000 Loss 1.53604\n",
            "Epoch 300/1000 Loss 1.50867\n",
            "Epoch 310/1000 Loss 1.48077\n",
            "Epoch 320/1000 Loss 1.45548\n",
            "Epoch 330/1000 Loss 1.43132\n",
            "Epoch 340/1000 Loss 1.40983\n",
            "Epoch 350/1000 Loss 1.38645\n",
            "Epoch 360/1000 Loss 1.36498\n",
            "Epoch 370/1000 Loss 1.34539\n",
            "Epoch 380/1000 Loss 1.32517\n",
            "Epoch 390/1000 Loss 1.30722\n",
            "Epoch 400/1000 Loss 1.28871\n",
            "Epoch 410/1000 Loss 1.27068\n",
            "Epoch 420/1000 Loss 1.25360\n",
            "Epoch 430/1000 Loss 1.23723\n",
            "Epoch 440/1000 Loss 1.22134\n",
            "Epoch 450/1000 Loss 1.20694\n",
            "Epoch 460/1000 Loss 1.19233\n",
            "Epoch 470/1000 Loss 1.17784\n",
            "Epoch 480/1000 Loss 1.16422\n",
            "Epoch 490/1000 Loss 1.15069\n",
            "Epoch 500/1000 Loss 1.13805\n",
            "Epoch 510/1000 Loss 1.12552\n",
            "Epoch 520/1000 Loss 1.11345\n",
            "Epoch 530/1000 Loss 1.10148\n",
            "Epoch 540/1000 Loss 1.09035\n",
            "Epoch 550/1000 Loss 1.07897\n",
            "Epoch 560/1000 Loss 1.06850\n",
            "Epoch 570/1000 Loss 1.05783\n",
            "Epoch 580/1000 Loss 1.04816\n",
            "Epoch 590/1000 Loss 1.03936\n",
            "Epoch 600/1000 Loss 1.02931\n",
            "Epoch 610/1000 Loss 1.01983\n",
            "Epoch 620/1000 Loss 1.01048\n",
            "Epoch 630/1000 Loss 1.00163\n",
            "Epoch 640/1000 Loss 0.99283\n",
            "Epoch 650/1000 Loss 0.98411\n",
            "Epoch 660/1000 Loss 0.97559\n",
            "Epoch 670/1000 Loss 0.96755\n",
            "Epoch 680/1000 Loss 0.95950\n",
            "Epoch 690/1000 Loss 0.95165\n",
            "Epoch 700/1000 Loss 0.94405\n",
            "Epoch 710/1000 Loss 0.93652\n",
            "Epoch 720/1000 Loss 0.92913\n",
            "Epoch 730/1000 Loss 0.92219\n",
            "Epoch 740/1000 Loss 0.91505\n",
            "Epoch 750/1000 Loss 0.90843\n",
            "Epoch 760/1000 Loss 0.90156\n",
            "Epoch 770/1000 Loss 0.89502\n",
            "Epoch 780/1000 Loss 0.88862\n",
            "Epoch 790/1000 Loss 0.88213\n",
            "Epoch 800/1000 Loss 0.87593\n",
            "Epoch 810/1000 Loss 0.87020\n",
            "Epoch 820/1000 Loss 0.86415\n",
            "Epoch 830/1000 Loss 0.85818\n",
            "Epoch 840/1000 Loss 0.85231\n",
            "Epoch 850/1000 Loss 0.84698\n",
            "Epoch 860/1000 Loss 0.84127\n",
            "Epoch 870/1000 Loss 0.83586\n",
            "Epoch 880/1000 Loss 0.83061\n",
            "Epoch 890/1000 Loss 0.82533\n",
            "Epoch 900/1000 Loss 0.82012\n",
            "Epoch 910/1000 Loss 0.81499\n",
            "Epoch 920/1000 Loss 0.80987\n",
            "Epoch 930/1000 Loss 0.80504\n",
            "Epoch 940/1000 Loss 0.80019\n",
            "Epoch 950/1000 Loss 0.79551\n",
            "Epoch 960/1000 Loss 0.79083\n",
            "Epoch 970/1000 Loss 0.78622\n",
            "Epoch 980/1000 Loss 0.78172\n",
            "Epoch 990/1000 Loss 0.77727\n",
            "Epoch 1000/1000 Loss 0.77283\n"
          ]
        }
      ]
    },
    {
      "cell_type": "code",
      "source": [
        "%matplotlib inline\n",
        "\n",
        "import matplotlib as mpl\n",
        "import matplotlib.pyplot as plt\n",
        "import random \n",
        "\n",
        "r, c = 3, 5\n",
        "fig = plt.figure(figsize=(2*c, 2*r))\n",
        "for _r in range(r):\n",
        "    for _c in range(c):\n",
        "        plt.subplot(r, c, _r*c + _c + 1)\n",
        "        ix = random.randint(0, len(X)-1)\n",
        "        img = X[ix]\n",
        "        plt.imshow(img.reshape(28,28), cmap='gray')\n",
        "        plt.axis(\"off\")\n",
        "        plt.title(Y[ix])\n",
        "plt.tight_layout()\n",
        "plt.show()"
      ],
      "metadata": {
        "colab": {
          "base_uri": "https://localhost:8080/",
          "height": 441
        },
        "id": "f3-CPk-D4Y3Z",
        "outputId": "e29bd3ee-436e-4e3f-a907-6abe3cff3ca3"
      },
      "execution_count": null,
      "outputs": [
        {
          "output_type": "display_data",
          "data": {
            "text/plain": [
              "<Figure size 720x432 with 15 Axes>"
            ],
            "image/png": "[encoded data removed]"
          },
          "metadata": {
            "needs_background": "light"
          }
        }
      ]
    },
    {
      "cell_type": "code",
      "source": [
        "from sklearn.metrics import accuracy_score\n",
        "\n",
        "def evaluate(x):\n",
        "    model.eval()\n",
        "    y_pred = model(x)\n",
        "    y_probas = softmax(y_pred)\n",
        "    return torch.argmax(y_probas, axis=1)\n",
        "\n",
        "y_pred = evaluate(torch.from_numpy(X_test).float().cuda())\n",
        "accuracy_score(y_test, y_pred.cpu().numpy())"
      ],
      "metadata": {
        "colab": {
          "base_uri": "https://localhost:8080/"
        },
        "id": "IwmoIhZ16hz3",
        "outputId": "4c36dee3-e36a-4f61-dcb2-b3c3ea675c32"
      },
      "execution_count": null,
      "outputs": [
        {
          "output_type": "execute_result",
          "data": {
            "text/plain": [
              "0.8302653631284916"
            ]
          },
          "metadata": {},
          "execution_count": 28
        }
      ]
    },
    {
      "cell_type": "code",
      "source": [
        "r, c = 3, 5\n",
        "fig = plt.figure(figsize=(2*c, 2*r))\n",
        "test_imgs, test_labs = [], []\n",
        "for _r in range(r):\n",
        "    for _c in range(c):\n",
        "        plt.subplot(r, c, _r*c + _c + 1)\n",
        "        ix = random.randint(0, len(X_test)-1)\n",
        "        img = X_test[ix]\n",
        "        y_pred = evaluate(torch.tensor([img]).float().cuda())[0]\n",
        "        img= img.reshape(28,28)\n",
        "        img = np.fliplr(img)\n",
        "        img=np.rot90(img)\n",
        "       \n",
        "        plt.imshow(img, cmap='gray')\n",
        "        plt.axis(\"off\")\n",
        "        plt.title(f\"{y_test[ix]}/{y_pred}\", color=\"green\" if y_test[ix] == y_pred else \"red\")\n",
        "plt.tight_layout()\n",
        "plt.show()"
      ],
      "metadata": {
        "colab": {
          "base_uri": "https://localhost:8080/",
          "height": 441
        },
        "id": "ZunwPpSw6v7W",
        "outputId": "ed05a933-8b00-470a-98bc-f6b3852b6111"
      },
      "execution_count": null,
      "outputs": [
        {
          "output_type": "display_data",
          "data": {
            "text/plain": [
              "<Figure size 720x432 with 15 Axes>"
            ],
            "image/png": "[encoded data removed]"
          },
          "metadata": {
            "needs_background": "light"
          }
        }
      ]
    },
    {
      "cell_type": "code",
      "source": [],
      "metadata": {
        "id": "DxuPQ20c651w"
      },
      "execution_count": null,
      "outputs": []
    }
  ]
}